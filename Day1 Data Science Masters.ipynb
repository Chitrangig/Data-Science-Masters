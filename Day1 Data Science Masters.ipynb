{
 "cells": [
  {
   "cell_type": "code",
   "execution_count": 1,
   "id": "0528decc-b4a3-4f9f-835c-fd154e1dd6cf",
   "metadata": {},
   "outputs": [
    {
     "data": {
      "text/plain": [
       "2"
      ]
     },
     "execution_count": 1,
     "metadata": {},
     "output_type": "execute_result"
    }
   ],
   "source": [
    "1+1"
   ]
  },
  {
   "cell_type": "markdown",
   "id": "36c4cbc1-6f70-44a3-b648-e5756069718e",
   "metadata": {},
   "source": [
    "# Numbers"
   ]
  },
  {
   "cell_type": "code",
   "execution_count": 2,
   "id": "c4e65522-b130-4e63-8a17-62a001ca43cb",
   "metadata": {},
   "outputs": [
    {
     "data": {
      "text/plain": [
       "10"
      ]
     },
     "execution_count": 2,
     "metadata": {},
     "output_type": "execute_result"
    }
   ],
   "source": [
    "#The output will be as a cell only\n",
    "5+5"
   ]
  },
  {
   "cell_type": "code",
   "execution_count": 3,
   "id": "e8d3c539-190a-4a02-b109-59e52122c09a",
   "metadata": {},
   "outputs": [
    {
     "name": "stdout",
     "output_type": "stream",
     "text": [
      "10\n"
     ]
    }
   ],
   "source": [
    "#The output is coming a terminal/monitor output row no. is not coming\n",
    "print(5+5)"
   ]
  },
  {
   "cell_type": "code",
   "execution_count": 4,
   "id": "95fe1dfc-6466-4980-93f2-7d9f7c77a6f4",
   "metadata": {},
   "outputs": [
    {
     "name": "stdout",
     "output_type": "stream",
     "text": [
      "Hello world\n"
     ]
    }
   ],
   "source": [
    "print(\"Hello world\")"
   ]
  },
  {
   "cell_type": "code",
   "execution_count": 5,
   "id": "5948b89e-2f25-4b4c-a3d3-6771f4b2ddc1",
   "metadata": {},
   "outputs": [
    {
     "name": "stdout",
     "output_type": "stream",
     "text": [
      "Hi, what's up \n",
      " I am working on python fundamentals\n"
     ]
    }
   ],
   "source": [
    "print(\"Hi, what's up \\n I am working on python fundamentals\")"
   ]
  },
  {
   "cell_type": "markdown",
   "id": "ff9789cf-ed59-4211-bcf0-bd024a33b494",
   "metadata": {},
   "source": [
    "# Variable Assignment"
   ]
  },
  {
   "cell_type": "code",
   "execution_count": 6,
   "id": "94a44fbe-e4b2-4cce-a44b-5c6ee51fc67f",
   "metadata": {},
   "outputs": [],
   "source": [
    "name=\"Chitrangi\""
   ]
  },
  {
   "cell_type": "code",
   "execution_count": 7,
   "id": "0067c0ee-dc48-4787-af0d-c016787eaa4e",
   "metadata": {},
   "outputs": [
    {
     "data": {
      "text/plain": [
       "'Chitrangi'"
      ]
     },
     "execution_count": 7,
     "metadata": {},
     "output_type": "execute_result"
    }
   ],
   "source": [
    "name\n"
   ]
  },
  {
   "cell_type": "code",
   "execution_count": 8,
   "id": "afca41a9-e2af-44e5-859a-df1503eb159b",
   "metadata": {},
   "outputs": [
    {
     "data": {
      "text/plain": [
       "10"
      ]
     },
     "execution_count": 8,
     "metadata": {},
     "output_type": "execute_result"
    }
   ],
   "source": [
    "number=10\n",
    "number"
   ]
  },
  {
   "cell_type": "code",
   "execution_count": 9,
   "id": "57378a9f-6350-4092-82b5-1adb5e5162db",
   "metadata": {},
   "outputs": [
    {
     "data": {
      "text/plain": [
       "str"
      ]
     },
     "execution_count": 9,
     "metadata": {},
     "output_type": "execute_result"
    }
   ],
   "source": [
    "#tells the data type. Str is string\n",
    "type(\"\")"
   ]
  },
  {
   "cell_type": "code",
   "execution_count": 10,
   "id": "3f44a392-24dc-4088-ba41-4e03de90d40a",
   "metadata": {},
   "outputs": [
    {
     "data": {
      "text/plain": [
       "int"
      ]
     },
     "execution_count": 10,
     "metadata": {},
     "output_type": "execute_result"
    }
   ],
   "source": [
    "#number is assigned value as 10 in above cell\n",
    "type(number)"
   ]
  },
  {
   "cell_type": "code",
   "execution_count": 11,
   "id": "56c36919-e132-413e-a4d6-b46460448053",
   "metadata": {},
   "outputs": [],
   "source": [
    "deci_num= 4.5"
   ]
  },
  {
   "cell_type": "code",
   "execution_count": 12,
   "id": "b729803e-d20c-4416-9d74-7ca4fdbee679",
   "metadata": {},
   "outputs": [
    {
     "data": {
      "text/plain": [
       "4.5"
      ]
     },
     "execution_count": 12,
     "metadata": {},
     "output_type": "execute_result"
    }
   ],
   "source": [
    "deci_num"
   ]
  },
  {
   "cell_type": "code",
   "execution_count": 13,
   "id": "8f76a177-56fe-4b9d-860c-4b419485e01f",
   "metadata": {},
   "outputs": [
    {
     "data": {
      "text/plain": [
       "float"
      ]
     },
     "execution_count": 13,
     "metadata": {},
     "output_type": "execute_result"
    }
   ],
   "source": [
    "type(deci_num)"
   ]
  },
  {
   "cell_type": "code",
   "execution_count": 14,
   "id": "4967ad67-be75-453e-bf1e-016547e246d5",
   "metadata": {},
   "outputs": [
    {
     "data": {
      "text/plain": [
       "complex"
      ]
     },
     "execution_count": 14,
     "metadata": {},
     "output_type": "execute_result"
    }
   ],
   "source": [
    "type(1+2j)"
   ]
  },
  {
   "cell_type": "code",
   "execution_count": 15,
   "id": "2e801290-2b1c-4f3e-9610-bc0c28b8220b",
   "metadata": {},
   "outputs": [
    {
     "name": "stdout",
     "output_type": "stream",
     "text": [
      "PW Skills\n",
      "iNeuron\n"
     ]
    }
   ],
   "source": [
    "#Variables are case sensitive\n",
    "comp=\"PW Skills\"\n",
    "Comp='iNeuron'\n",
    "print(comp)\n",
    "print(Comp)"
   ]
  },
  {
   "cell_type": "code",
   "execution_count": 39,
   "id": "f4d16f3e-c195-470c-bc03-9d33948ecc4a",
   "metadata": {},
   "outputs": [
    {
     "data": {
      "text/plain": [
       "'\\nint, float, len, complex, bool, str, return, break etc.\\n\\nwriting float = 32 is not right as float is reserved keyword. The value float will get overwritten by 32 and you will have to restart your kernel \\n'"
      ]
     },
     "execution_count": 39,
     "metadata": {},
     "output_type": "execute_result"
    }
   ],
   "source": [
    "## Reserved Keywords\n",
    "\"\"\"\n",
    "int, float, len, complex, bool, str, return, break etc.\n",
    "\n",
    "writing float = 32 is not right as float is reserved keyword. The value float will get overwritten by 32 and you will have to restart your kernel \n",
    "\"\"\""
   ]
  },
  {
   "cell_type": "code",
   "execution_count": 17,
   "id": "e6a19a0f-35fc-459c-9feb-18ffef809bde",
   "metadata": {},
   "outputs": [
    {
     "data": {
      "text/plain": [
       "False"
      ]
     },
     "execution_count": 17,
     "metadata": {},
     "output_type": "execute_result"
    }
   ],
   "source": [
    "#Boolean\n",
    "\n",
    "True and False"
   ]
  },
  {
   "cell_type": "code",
   "execution_count": 18,
   "id": "dd2df8d3-7a9c-492f-a1ff-3ad840578cf7",
   "metadata": {},
   "outputs": [
    {
     "data": {
      "text/plain": [
       "True"
      ]
     },
     "execution_count": 18,
     "metadata": {},
     "output_type": "execute_result"
    }
   ],
   "source": [
    "True or False"
   ]
  },
  {
   "cell_type": "code",
   "execution_count": 19,
   "id": "c4158699-479c-4586-89cf-d93630da4b05",
   "metadata": {},
   "outputs": [
    {
     "data": {
      "text/plain": [
       "False"
      ]
     },
     "execution_count": 19,
     "metadata": {},
     "output_type": "execute_result"
    }
   ],
   "source": [
    "not True"
   ]
  },
  {
   "cell_type": "code",
   "execution_count": 21,
   "id": "92b2e4fb-b949-42c0-be61-83c1a6d9dae9",
   "metadata": {},
   "outputs": [
    {
     "data": {
      "text/plain": [
       "bool"
      ]
     },
     "execution_count": 21,
     "metadata": {},
     "output_type": "execute_result"
    }
   ],
   "source": [
    "type(not False)"
   ]
  },
  {
   "cell_type": "code",
   "execution_count": 22,
   "id": "d7f3be05-32ad-4028-873e-57873bc5223b",
   "metadata": {},
   "outputs": [
    {
     "data": {
      "text/plain": [
       "False"
      ]
     },
     "execution_count": 22,
     "metadata": {},
     "output_type": "execute_result"
    }
   ],
   "source": [
    "bool(0)"
   ]
  },
  {
   "cell_type": "code",
   "execution_count": 38,
   "id": "40d8ff6c-b6cb-4e23-b6a6-6d1ad89aed3b",
   "metadata": {},
   "outputs": [
    {
     "data": {
      "text/plain": [
       "True"
      ]
     },
     "execution_count": 38,
     "metadata": {},
     "output_type": "execute_result"
    }
   ],
   "source": [
    "#this proess of converting a number to boolean value is called typeasting\n",
    "#in typecasting int(\"abd\") is not valid. int(\"23\") is valid\n",
    "bool(1)"
   ]
  },
  {
   "cell_type": "code",
   "execution_count": 30,
   "id": "378b5148-166b-4900-8e1a-5e9646db3c12",
   "metadata": {},
   "outputs": [
    {
     "name": "stdout",
     "output_type": "stream",
     "text": [
      "True\n"
     ]
    }
   ],
   "source": [
    "a=1\n",
    "if bool(a) == True:\n",
    "    print(\"True\")"
   ]
  },
  {
   "cell_type": "code",
   "execution_count": 33,
   "id": "53f29e52-e433-419a-8544-71e9b7ba9aac",
   "metadata": {},
   "outputs": [
    {
     "data": {
      "text/plain": [
       "'25'"
      ]
     },
     "execution_count": 33,
     "metadata": {},
     "output_type": "execute_result"
    }
   ],
   "source": [
    "str(25)\n"
   ]
  },
  {
   "cell_type": "code",
   "execution_count": 34,
   "id": "0f366b8d-b469-46cd-835f-69e021210116",
   "metadata": {},
   "outputs": [
    {
     "data": {
      "text/plain": [
       "'2'"
      ]
     },
     "execution_count": 34,
     "metadata": {},
     "output_type": "execute_result"
    }
   ],
   "source": [
    "a= 2\n",
    "b= str(a)\n",
    "b"
   ]
  },
  {
   "cell_type": "code",
   "execution_count": 35,
   "id": "6d0e95db-6cf1-4a15-a427-cc159dd8ccc5",
   "metadata": {},
   "outputs": [
    {
     "name": "stdout",
     "output_type": "stream",
     "text": [
      "2\n"
     ]
    }
   ],
   "source": [
    "print(str(2))"
   ]
  },
  {
   "cell_type": "code",
   "execution_count": 36,
   "id": "c656b0de-1bd5-474b-83b1-0d30a14b8718",
   "metadata": {},
   "outputs": [
    {
     "data": {
      "text/plain": [
       "24"
      ]
     },
     "execution_count": 36,
     "metadata": {},
     "output_type": "execute_result"
    }
   ],
   "source": [
    "int('24')"
   ]
  },
  {
   "cell_type": "code",
   "execution_count": 37,
   "id": "d51aaf79-2336-4f2b-958e-a9d234f06ac4",
   "metadata": {},
   "outputs": [
    {
     "data": {
      "text/plain": [
       "int"
      ]
     },
     "execution_count": 37,
     "metadata": {},
     "output_type": "execute_result"
    }
   ],
   "source": [
    "type(int('24'))"
   ]
  },
  {
   "cell_type": "markdown",
   "id": "b2e003d3-a37e-4786-92c9-bac0f9bf0f29",
   "metadata": {},
   "source": [
    "# Dynamic Typing"
   ]
  },
  {
   "cell_type": "code",
   "execution_count": null,
   "id": "d6cbb949-835c-4e30-b4dd-72bae4326c89",
   "metadata": {},
   "outputs": [],
   "source": [
    "\"\"\"Dynamic typing means we do not have to specify the data type while defining/assigning the variables. \n",
    "The complier on the rumtime itself identifies the type of the variable\"\"\"\n"
   ]
  },
  {
   "cell_type": "code",
   "execution_count": 41,
   "id": "6f0388d6-0fa9-479a-916b-5f53b456f486",
   "metadata": {},
   "outputs": [
    {
     "data": {
      "text/plain": [
       "'11'"
      ]
     },
     "execution_count": 41,
     "metadata": {},
     "output_type": "execute_result"
    }
   ],
   "source": [
    "#Concatenation between different types\n",
    "\n",
    "\"1\" + \"1\""
   ]
  },
  {
   "cell_type": "code",
   "execution_count": 42,
   "id": "cee19df8-9a0d-40f1-ab82-cbf3fdf28450",
   "metadata": {},
   "outputs": [
    {
     "data": {
      "text/plain": [
       "2"
      ]
     },
     "execution_count": 42,
     "metadata": {},
     "output_type": "execute_result"
    }
   ],
   "source": [
    "int(\"1\") + int(\"1\")"
   ]
  },
  {
   "cell_type": "code",
   "execution_count": 44,
   "id": "b00bfa85-e1ca-451c-ab94-d787dc7ead44",
   "metadata": {},
   "outputs": [
    {
     "data": {
      "text/plain": [
       "'1111111111111111111111111111111111111111111111111111111111111111111111111111111111111111111111111111'"
      ]
     },
     "execution_count": 44,
     "metadata": {},
     "output_type": "execute_result"
    }
   ],
   "source": [
    "#this will print 1 100 times as string\n",
    "\"1\" * 100"
   ]
  },
  {
   "cell_type": "code",
   "execution_count": null,
   "id": "a2962bbe-5236-4577-a8d1-00d693793dde",
   "metadata": {},
   "outputs": [],
   "source": []
  },
  {
   "cell_type": "code",
   "execution_count": null,
   "id": "d0a29f6e-52a1-403c-9158-afec4040b072",
   "metadata": {},
   "outputs": [],
   "source": []
  },
  {
   "cell_type": "code",
   "execution_count": null,
   "id": "4c0d27b3-c1a3-4e70-ae65-fb923a658839",
   "metadata": {},
   "outputs": [],
   "source": []
  },
  {
   "cell_type": "code",
   "execution_count": null,
   "id": "181efcc4-5178-42e2-b21f-310205b77284",
   "metadata": {},
   "outputs": [],
   "source": []
  },
  {
   "cell_type": "code",
   "execution_count": null,
   "id": "381b67da-c97f-4bd0-8124-157da6d49461",
   "metadata": {},
   "outputs": [],
   "source": []
  },
  {
   "cell_type": "code",
   "execution_count": null,
   "id": "dac420d6-3c70-4c57-8833-d29650cb5697",
   "metadata": {},
   "outputs": [],
   "source": []
  },
  {
   "cell_type": "code",
   "execution_count": null,
   "id": "24937306-6d75-4b74-b6ab-ff764543cea6",
   "metadata": {},
   "outputs": [],
   "source": []
  },
  {
   "cell_type": "code",
   "execution_count": null,
   "id": "3eb6c1d4-93fe-412d-bf6c-11b99664142c",
   "metadata": {},
   "outputs": [],
   "source": []
  },
  {
   "cell_type": "code",
   "execution_count": null,
   "id": "28826b02-150d-4b37-b9f4-3c380d1c951d",
   "metadata": {},
   "outputs": [],
   "source": []
  },
  {
   "cell_type": "code",
   "execution_count": null,
   "id": "9f4e8ede-21d6-4a01-9d53-758c21d33616",
   "metadata": {},
   "outputs": [],
   "source": []
  },
  {
   "cell_type": "code",
   "execution_count": null,
   "id": "07b3e6b1-a71d-48bd-8bfb-714276823eb8",
   "metadata": {},
   "outputs": [],
   "source": []
  },
  {
   "cell_type": "code",
   "execution_count": null,
   "id": "63775723-26a4-460c-97ef-8e8fe2aa9d58",
   "metadata": {},
   "outputs": [],
   "source": []
  },
  {
   "cell_type": "code",
   "execution_count": null,
   "id": "efdf7542-d392-42a5-9f1f-423dc5072880",
   "metadata": {},
   "outputs": [],
   "source": []
  },
  {
   "cell_type": "code",
   "execution_count": null,
   "id": "997e3d6c-6161-4544-accd-acf8d882c1ca",
   "metadata": {},
   "outputs": [],
   "source": []
  },
  {
   "cell_type": "code",
   "execution_count": null,
   "id": "deb0aec9-71b6-432a-9f9b-61a3267278c3",
   "metadata": {},
   "outputs": [],
   "source": []
  },
  {
   "cell_type": "code",
   "execution_count": null,
   "id": "69bbb9a3-52f0-4039-80fb-27b986268bdd",
   "metadata": {},
   "outputs": [],
   "source": []
  },
  {
   "cell_type": "code",
   "execution_count": null,
   "id": "4fee9fea-d9d1-489c-bf32-9e39dfabfe8f",
   "metadata": {},
   "outputs": [],
   "source": []
  },
  {
   "cell_type": "code",
   "execution_count": null,
   "id": "d8f5836f-e46f-48d1-9b8a-14953a94b1a9",
   "metadata": {},
   "outputs": [],
   "source": []
  },
  {
   "cell_type": "code",
   "execution_count": null,
   "id": "00a02954-477d-4d60-bd37-b5e2680d1bd7",
   "metadata": {},
   "outputs": [],
   "source": []
  },
  {
   "cell_type": "code",
   "execution_count": null,
   "id": "137f9f5b-63b7-4a2b-a4cd-234352f918f5",
   "metadata": {},
   "outputs": [],
   "source": []
  },
  {
   "cell_type": "code",
   "execution_count": null,
   "id": "2b7b1d60-c98c-43a5-b99e-20286dd8d77a",
   "metadata": {},
   "outputs": [],
   "source": []
  },
  {
   "cell_type": "code",
   "execution_count": null,
   "id": "25362b6e-8987-4f88-9086-7e991e4f9484",
   "metadata": {},
   "outputs": [],
   "source": []
  },
  {
   "cell_type": "code",
   "execution_count": null,
   "id": "f72552d6-19b4-4b3a-8706-1c9809399b95",
   "metadata": {},
   "outputs": [],
   "source": []
  },
  {
   "cell_type": "code",
   "execution_count": null,
   "id": "8e3dbd8c-defa-4ed3-81af-537f7f01b157",
   "metadata": {},
   "outputs": [],
   "source": []
  },
  {
   "cell_type": "code",
   "execution_count": null,
   "id": "1399287b-c116-476d-815b-653ecba1c189",
   "metadata": {},
   "outputs": [],
   "source": []
  }
 ],
 "metadata": {
  "kernelspec": {
   "display_name": "Python 3 (ipykernel)",
   "language": "python",
   "name": "python3"
  },
  "language_info": {
   "codemirror_mode": {
    "name": "ipython",
    "version": 3
   },
   "file_extension": ".py",
   "mimetype": "text/x-python",
   "name": "python",
   "nbconvert_exporter": "python",
   "pygments_lexer": "ipython3",
   "version": "3.10.8"
  }
 },
 "nbformat": 4,
 "nbformat_minor": 5
}
